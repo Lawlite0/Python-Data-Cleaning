{
 "cells": [
  {
   "cell_type": "code",
   "execution_count": null,
   "metadata": {
    "scrolled": false
   },
   "outputs": [],
   "source": [
    "import pandas as pd\n",
    "import numpy as np\n",
    "import datetime\n",
    "import re\n",
    "missing_values = [\"n/a\", \"na\", \"--\"]\n",
    "df = pd.read_csv(\"hr_testdata.csv\", na_values = missing_values)\n",
    "df.tail()\n",
    "# df[].isnull()\n",
    "# df.fillna(0)\n",
    "# df.dropna()\n",
    "# df.replace({1000:10,2000:60})\n",
    "\n",
    "#detecting numbers in columns with strings(gender, yes/no etc)\n",
    "# cnt=0\n",
    "# for row in df['Gender']:\n",
    "#     try:\n",
    "#         int(row)\n",
    "#         df.loc[cnt, 'Gender']=np.nan\n",
    "#     except ValueError:\n",
    "#         pass\n",
    "#     cnt+=1\n",
    "\n",
    "#drop columns\n",
    "# to_drop = ['Mother_Name','Weight']\n",
    "# df.drop(to_drop, inplace=True)\n",
    "\n",
    "#indexing\n",
    "# df['Emp_ID'].is_unique\n",
    "# df = df.set_index('Emp_ID')\n",
    "# df.head()\n",
    "\n",
    "#extracting only year from string/ last four characters \n",
    "# regex = r'(\\d{4})$'\n",
    "# extr = df['DOJ'].str.extract(r'(\\d{4})$', expand=False)\n",
    "# extr.head()\n",
    "\n",
    "#conversion\n",
    "# df['DOJ'] = pd.to_numeric(extr)\n",
    "# df['DOJ'].dtype\n",
    "\n",
    "#renaming columns\n",
    "# new_names = {'Half of Joining': 'HOJ', 'Year of Joining': 'YOJ'}\n",
    "# df.rename(columns=new_names, inplace=True)"
   ]
  },
  {
   "cell_type": "code",
   "execution_count": null,
   "metadata": {},
   "outputs": [],
   "source": [
    "# df.to_csv(\"testdata_datediv.csv\")"
   ]
  }
 ],
 "metadata": {
  "kernelspec": {
   "display_name": "Python 3",
   "language": "python",
   "name": "python3"
  },
  "language_info": {
   "codemirror_mode": {
    "name": "ipython",
    "version": 3
   },
   "file_extension": ".py",
   "mimetype": "text/x-python",
   "name": "python",
   "nbconvert_exporter": "python",
   "pygments_lexer": "ipython3",
   "version": "3.7.3"
  }
 },
 "nbformat": 4,
 "nbformat_minor": 2
}
