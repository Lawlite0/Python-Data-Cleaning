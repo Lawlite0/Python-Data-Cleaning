{
 "cells": [
  {
   "cell_type": "code",
   "execution_count": 86,
   "metadata": {
    "scrolled": false
   },
   "outputs": [],
   "source": [
    "import pandas as pd\n",
    "import numpy as np\n",
    "import datetime"
   ]
  },
  {
   "cell_type": "code",
   "execution_count": null,
   "metadata": {
    "scrolled": true
   },
   "outputs": [],
   "source": [
    "df = pd.read_csv(\"hr_testdata.csv\")\n",
    "df.tail()\n",
    "df.DOB = pd.to_datetime(df.DOB, dayfirst=True)\n",
    "df['Day'] = df.DOB.dt.day\n",
    "df['Month'] = df.DOB.dt.month\n",
    "df['Year'] = df.DOB.dt.year\n",
    "df.tail()\n",
    "# df.to_csv(\"testdata_datediv.csv\")"
   ]
  },
  {
   "cell_type": "code",
   "execution_count": null,
   "metadata": {},
   "outputs": [],
   "source": [
    "#test\n",
    "df = pd.read_csv(\"hr_testdata.csv\")\n",
    "df.Test_date = pd.to_datetime(df.Test_date, dayfirst=True)\n",
    "df['Test_date']\n",
    "# for date in df.Test_date:\n",
    "#     print(dateutil.parser.parse(date, dayfirst=True).strftime(\"%Y-%m-%d\"))"
   ]
  },
  {
   "cell_type": "code",
   "execution_count": 1,
   "metadata": {},
   "outputs": [
    {
     "name": "stdout",
     "output_type": "stream",
     "text": [
      "1998-06-10 00:00:00\n",
      "2009-03-13 00:00:00\n",
      "1999-05-09 00:00:00\n",
      "1998-03-31 00:00:00\n",
      "[datetime.datetime(1998, 6, 10, 0, 0), datetime.datetime(2009, 3, 13, 0, 0), datetime.datetime(1999, 5, 9, 0, 0), datetime.datetime(1998, 3, 31, 0, 0)]\n"
     ]
    }
   ],
   "source": [
    "#to get dates from strings and replace them in satndard format\n",
    "import datefinder\n",
    "str = \"hello this is my birthdate June, 1998 and my friend's birthdate is 2009-3-13 and xyz 1999 - 5-9 and 03 31-1998\"\n",
    "matches = datefinder.find_dates(str)\n",
    "dates = []\n",
    "for match in matches:\n",
    "    print(match)\n",
    "    dates.append(match)\n",
    "# print(dates)"
   ]
  }
 ],
 "metadata": {
  "kernelspec": {
   "display_name": "Python 3",
   "language": "python",
   "name": "python3"
  },
  "language_info": {
   "codemirror_mode": {
    "name": "ipython",
    "version": 3
   },
   "file_extension": ".py",
   "mimetype": "text/x-python",
   "name": "python",
   "nbconvert_exporter": "python",
   "pygments_lexer": "ipython3",
   "version": "3.7.3"
  }
 },
 "nbformat": 4,
 "nbformat_minor": 2
}
