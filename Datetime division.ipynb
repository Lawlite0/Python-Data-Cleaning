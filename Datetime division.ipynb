{
 "cells": [
  {
   "cell_type": "code",
   "execution_count": null,
   "metadata": {
    "scrolled": false
   },
   "outputs": [],
   "source": [
    "import pandas as pd\n",
    "import numpy as np\n",
    "import datetime\n",
    "import re"
   ]
  },
  {
   "cell_type": "code",
   "execution_count": null,
   "metadata": {
    "scrolled": true
   },
   "outputs": [],
   "source": [
    "#standardsation of dates and sepearting day, month and year into individual columns \n",
    "# df = pd.read_csv(\"hr_testdata.csv\")\n",
    "# df.tail()\n",
    "# df.DOB = pd.to_datetime(df.DOB, dayfirst=True)\n",
    "# df['Day'] = df.DOB.dt.day\n",
    "# df['Month'] = df.DOB.dt.month\n",
    "# df['Year'] = df.DOB.dt.year\n",
    "# df.tail()\n",
    "# # df.to_csv(\"testdata_datediv.csv\")"
   ]
  },
  {
   "cell_type": "code",
   "execution_count": null,
   "metadata": {},
   "outputs": [],
   "source": [
    "# import datefinder\n",
    "# matches = datefinder.find_dates(str)\n",
    "# dates = []\n",
    "# for match in matches:\n",
    "#     print(match)\n",
    "#     dates.append(match)\n",
    "# print(dates)"
   ]
  },
  {
   "cell_type": "code",
   "execution_count": null,
   "metadata": {
    "scrolled": false
   },
   "outputs": [],
   "source": [
    "#to get dates from strings and replace them in satndard format\n",
    "# regex covered \"[(mm)md(dd)]/[(mm)md(dd)]/[(yyyy)(yy)], [(yyyy)(yy)]/[(mm)md(dd)]/[(mm)md(dd)]\"\n",
    "# regex =['^(?:(1[0-2]|0?[1-9])[\\t]+/[\\t]+(3[01]|[12][0-9]|0?[1-9])|(3[01]|[12][0-9]|0?[1-9])[\\t]+/[\\t]+(1[0-2]|0?[1-9]))[\\t]+/[\\t]+(?:[0-9]{2})?[0-9]{2}$', \n",
    "#        '^(?:[0-9]{2})?[0-9]{2}[\\t]+/[\\t]+(?:(1[0-2]|0?[1-9])[\\t]+/[\\t]+(3[01]|[12][0-9]|0?[1-9])|(3[01]|[12][0-9]|0?[1-9])[\\t]+/[\\t]+(1[0-2]|0?[1-9]))$']\n",
    "str_test = \"hello this is my birthdate 10th June,1998 and my friend's birthdate is 2009-3-13 and xyz 1999 - 5-9 and 03 31-1998\"\n",
    "regex = [ \n",
    "            '\\d{1,2}\\s*((rd)|(th)|(st)(nd))?\\s*((Jan)|(jan)|(January)|(january)|(Feb)|(feb)|(February)|(february)|(Mar)|(mar)|(March)|(march)|(Apr)|(apr)|(April)|(april)|(May)|(may)|(Jun)|(jun)|(June)|(june)|(Jul)|(jul)|(July)|(july)|(Aug)|(aug)|(August)|(august)|(Sep)|(sep)|(September)|(september)|(Oct)|(oct)|(October)|(october)|(Nov)|(nov)|(November)|(november)|(Dec)|(dec)|(December)|(december)),?\\s*?\\d{2,4}',\n",
    "            '\\d{1,2}\\s*[/. -]\\s*\\d{1,2}\\s*[/. -]\\s*\\d{4}',\n",
    "            '\\d{4}\\s*[/. -]\\s*\\d{1,2}\\s*[/. -]\\s*\\d{1,2}',\n",
    "            '((Jan)|(jan)|(January)|(january)|(Feb)|(feb)|(February)|(february)|(Mar)|(mar)|(March)|(march)|(Apr)|(apr)|(April)|(april)|(May)|(may)|(Jun)|(jun)|(June)|(june)|(Jul)|(jul)|(July)|(july)|(Aug)|(aug)|(August)|(august)|(Sep)|(sep)|(September)|(september)|(Oct)|(oct)|(October)|(october)|(Nov)|(nov)|(November)|(november)|(Dec)|(dec)|(December)|(december))\\s+\\d{1,2},?\\s*\\d{2,4}'\n",
    "            '\\d{2,4},?\\s+\\d{1,2}\\s+((Jan)|(jan)|(January)|(january)|(Feb)|(feb)|(February)|(february)|(Mar)|(mar)|(March)|(march)|(Apr)|(apr)|(April)|(april)|(May)|(may)|(Jun)|(jun)|(June)|(june)|(Jul)|(jul)|(July)|(july)|(Aug)|(aug)|(August)|(august)|(Sep)|(sep)|(September)|(september)|(Oct)|(oct)|(October)|(october)|(Nov)|(nov)|(November)|(november)|(Dec)|(dec)|(December)|(december))'\n",
    "         ]\n",
    "\n",
    "\n",
    "df = pd.read_csv(\"hr_testdata_noemp.csv\")\n",
    "col_name = input('Enter aname of column to be formatted')\n",
    " #checking and updating dates in givrn column\n",
    "for date_row in df[col_name]:\n",
    "    dates_list=[]\n",
    "    for reg in regex:\n",
    "        try:\n",
    "            for match in re.finditer(reg, date_row):\n",
    "                dates_list.append(match.group())\n",
    "        except TypeError:\n",
    "            pass\n",
    "    for mylist in dates_list:\n",
    "        try:\n",
    "            date_row = date_row.replace(mylist,pd.to_datetime(mylist).strftime('%Y-%m-%d'),1)\n",
    "        except ValueError:\n",
    "            pass\n",
    "            print('Day cannot exceed 28 for Feb unless its a leap year')\n",
    "    print(date_row)\n",
    "#     df[col_name] = date_row\n",
    "#     df[col_name]\n",
    "#     return(df[col_name].astype(str))\n",
    "df[col_name]\n"
   ]
  }
 ],
 "metadata": {
  "kernelspec": {
   "display_name": "Python 3",
   "language": "python",
   "name": "python3"
  },
  "language_info": {
   "codemirror_mode": {
    "name": "ipython",
    "version": 3
   },
   "file_extension": ".py",
   "mimetype": "text/x-python",
   "name": "python",
   "nbconvert_exporter": "python",
   "pygments_lexer": "ipython3",
   "version": "3.7.3"
  }
 },
 "nbformat": 4,
 "nbformat_minor": 2
}
